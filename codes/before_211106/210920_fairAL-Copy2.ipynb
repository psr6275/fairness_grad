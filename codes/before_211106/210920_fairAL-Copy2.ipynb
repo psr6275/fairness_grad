{
 "cells": [
  {
   "cell_type": "code",
   "execution_count": 1,
   "metadata": {},
   "outputs": [],
   "source": [
    "import torch"
   ]
  },
  {
   "cell_type": "code",
   "execution_count": 2,
   "metadata": {},
   "outputs": [
    {
     "name": "stdout",
     "output_type": "stream",
     "text": [
      "Current cuda device  1\n",
      "GeForce RTX 2080 Ti\n",
      "Memory Usage:\n",
      "Allocated: 0.0 GB\n",
      "Cached:    0.0 GB\n"
     ]
    }
   ],
   "source": [
    "GPU_NUM = 0\n",
    "device = torch.device(f'cuda:{GPU_NUM}' if torch.cuda.is_available() else 'cpu')\n",
    "torch.cuda.set_device(device) # change allocation of current GPU\n",
    "print ('Current cuda device ', torch.cuda.current_device()) # check\n",
    "\n",
    "# Additional Infos\n",
    "if device.type == 'cuda':\n",
    "    print(torch.cuda.get_device_name(GPU_NUM))\n",
    "    print('Memory Usage:')\n",
    "    print('Allocated:', round(torch.cuda.memory_allocated(GPU_NUM)/1024**3,1), 'GB')\n",
    "    print('Cached:   ', round(torch.cuda.memory_cached(GPU_NUM)/1024**3,1), 'GB')"
   ]
  },
  {
   "cell_type": "code",
   "execution_count": 3,
   "metadata": {},
   "outputs": [],
   "source": [
    "from load_data import *"
   ]
  },
  {
   "cell_type": "code",
   "execution_count": 4,
   "metadata": {},
   "outputs": [],
   "source": [
    "Xtr, Xte, ytr, yte, Ztr, Zte = load_german_data()\n",
    "ytr = ytr.astype('float32').reshape((-1,1))\n",
    "yte = yte.astype('float32').reshape((-1,1))"
   ]
  },
  {
   "cell_type": "code",
   "execution_count": 5,
   "metadata": {},
   "outputs": [
    {
     "data": {
      "image/png": "[encoded data removed]",
      "text/plain": [
       "<Figure size 432x288 with 1 Axes>"
      ]
     },
     "metadata": {
      "needs_background": "light"
     },
     "output_type": "display_data"
    }
   ],
   "source": [
    "import matplotlib.pyplot as plt\n",
    "plt.hist(Ztr[:,0])\n",
    "plt.show()"
   ]
  },
  {
   "cell_type": "code",
   "execution_count": 6,
   "metadata": {},
   "outputs": [
    {
     "data": {
      "image/png": "[encoded data removed]",
      "text/plain": [
       "<Figure size 432x288 with 1 Axes>"
      ]
     },
     "metadata": {
      "needs_background": "light"
     },
     "output_type": "display_data"
    }
   ],
   "source": [
    "plt.hist(ytr)\n",
    "plt.show()"
   ]
  },
  {
   "cell_type": "code",
   "execution_count": 7,
   "metadata": {},
   "outputs": [
    {
     "data": {
      "text/plain": [
       "array([0.18571429])"
      ]
     },
     "execution_count": 7,
     "metadata": {},
     "output_type": "execute_result"
    }
   ],
   "source": [
    "sum(Ztr==0)/len(Ztr)"
   ]
  },
  {
   "cell_type": "code",
   "execution_count": 8,
   "metadata": {},
   "outputs": [
    {
     "name": "stdout",
     "output_type": "stream",
     "text": [
      "# training samples: (700, 23)\n",
      "# test samples: (300, 23)\n",
      "# sensitive vars (700, 1)\n"
     ]
    }
   ],
   "source": [
    "print('# training samples:', Xtr.shape)\n",
    "print('# test samples:', Xte.shape)\n",
    "print('# sensitive vars', Ztr.shape)\n"
   ]
  },
  {
   "cell_type": "code",
   "execution_count": 9,
   "metadata": {},
   "outputs": [],
   "source": [
    "N1 = 100\n",
    "Xtr1 = Xtr[:N1]\n",
    "ytr1 = ytr[:N1]\n",
    "Ztr1 = Ztr[:N1]\n",
    "Xtr2 = Xtr[N1:]\n",
    "ytr2 = ytr[N1:]\n",
    "Ztr2 = Ztr[N1:]"
   ]
  },
  {
   "cell_type": "code",
   "execution_count": 10,
   "metadata": {},
   "outputs": [
    {
     "data": {
      "text/plain": [
       "(700, 1)"
      ]
     },
     "execution_count": 10,
     "metadata": {},
     "output_type": "execute_result"
    }
   ],
   "source": [
    "Ztr.shape"
   ]
  },
  {
   "cell_type": "code",
   "execution_count": 11,
   "metadata": {},
   "outputs": [],
   "source": [
    "import torch.nn as nn\n",
    "import torch.nn.functional as F\n",
    "import torch.optim as optim"
   ]
  },
  {
   "cell_type": "code",
   "execution_count": 12,
   "metadata": {},
   "outputs": [],
   "source": [
    "from fairNN_train import *\n",
    "from load_data import *"
   ]
  },
  {
   "cell_type": "code",
   "execution_count": 13,
   "metadata": {},
   "outputs": [],
   "source": [
    "n_features = Xtr.shape[1]\n",
    "clf = Classifier(n_features=n_features)\n",
    "clf_criterion = nn.BCELoss()\n",
    "clf_optimizer = optim.Adam(clf.parameters())"
   ]
  },
  {
   "cell_type": "code",
   "execution_count": 14,
   "metadata": {},
   "outputs": [],
   "source": [
    "class Args:\n",
    "    def __init__(self):\n",
    "        self.epochs = 30\n",
    "        self.AL_iters = 10\n",
    "        self.AL_batch = 32\n",
    "        self.batch_size = 32\n",
    "        self.AL_select = 'loss'\n",
    "        \n",
    "    def print_args(self):\n",
    "        print(\"train epochs/batch: {}/{}\".format(self.epochs,self.batch_size))\n",
    "        print(\"AL iters/batch: {}/{}\".format(self.AL_iters,self.AL_batch))\n",
    "        print(\"AL selection is based on \", self.AL_select)"
   ]
  },
  {
   "cell_type": "code",
   "execution_count": 15,
   "metadata": {},
   "outputs": [],
   "source": [
    "args = Args()"
   ]
  },
  {
   "cell_type": "code",
   "execution_count": 16,
   "metadata": {},
   "outputs": [],
   "source": [
    "train_data = NPsDataSet(Xtr1, ytr1, Ztr1)\n",
    "train_loader = DataLoader(train_data, batch_size=args.batch_size, shuffle=True, drop_last=True)"
   ]
  },
  {
   "cell_type": "code",
   "execution_count": 17,
   "metadata": {},
   "outputs": [
    {
     "data": {
      "text/plain": [
       "torch.Size([100, 1])"
      ]
     },
     "execution_count": 17,
     "metadata": {},
     "output_type": "execute_result"
    }
   ],
   "source": [
    "train_loader.dataset.tensors[-1].shape"
   ]
  },
  {
   "cell_type": "code",
   "execution_count": 18,
   "metadata": {},
   "outputs": [],
   "source": [
    "from fair_eval import *"
   ]
  },
  {
   "cell_type": "code",
   "execution_count": 19,
   "metadata": {},
   "outputs": [],
   "source": [
    "zZtr2 = transform_dum2cat(Ztr2)\n",
    "select_data = NPsDataSet(Xtr2, ytr2, zZtr2)\n",
    "select_loader = DataLoader(select_data, batch_size=args.batch_size, shuffle=False, drop_last=False)"
   ]
  },
  {
   "cell_type": "code",
   "execution_count": 20,
   "metadata": {},
   "outputs": [],
   "source": [
    "test_data = NPsDataSet(Xte, yte, Zte)\n",
    "test_loader = DataLoader(test_data, batch_size=args.batch_size, shuffle=False, drop_last=False)"
   ]
  },
  {
   "cell_type": "markdown",
   "metadata": {},
   "source": [
    "- gradient calculation for unlabeled set\n",
    "- expectation \n",
    "- https://discuss.pytorch.org/t/how-to-efficiently-compute-gradient-for-each-training-sample/60001/2 \n",
    "- https://github.com/cybertronai/autograd-hacks#per-example-gradients \n",
    "- https://tutorials.pytorch.kr/intermediate/tensorboard_tutorial.html"
   ]
  },
  {
   "cell_type": "code",
   "execution_count": 21,
   "metadata": {},
   "outputs": [],
   "source": [
    "n_features = Xtr.shape[1]\n",
    "clf = Classifier(n_features=n_features).cuda()\n",
    "criterion = nn.BCELoss()\n",
    "optimizer = optim.Adam(clf.parameters())"
   ]
  },
  {
   "cell_type": "code",
   "execution_count": 22,
   "metadata": {},
   "outputs": [],
   "source": [
    "clf.eval()\n",
    "preds = clf(torch.tensor(Xtr[:10],dtype = torch.float32).cuda())"
   ]
  },
  {
   "cell_type": "code",
   "execution_count": 21,
   "metadata": {
    "scrolled": true
   },
   "outputs": [
    {
     "data": {
      "image/png": "[encoded data removed]",
      "text/plain": [
       "<Figure size 864x576 with 2 Axes>"
      ]
     },
     "metadata": {
      "needs_background": "light"
     },
     "output_type": "display_data"
    },
    {
     "name": "stdout",
     "output_type": "stream",
     "text": [
      "Accuracy\n",
      "\ttraining         \t (min:   35.417, max:   72.917, cur:   71.875)\n",
      "\tvalidation       \t (min:   30.667, max:   69.333, cur:   69.333)\n",
      "Loss\n",
      "\ttraining         \t (min:    0.488, max:    0.703, cur:    0.488)\n",
      "\tvalidation       \t (min:    0.529, max:    0.698, cur:    0.529)\n",
      "Finished Training\n"
     ]
    }
   ],
   "source": [
    "train_model(clf, train_loader, criterion, optimizer, device, args, test_loader)"
   ]
  },
  {
   "cell_type": "code",
   "execution_count": 22,
   "metadata": {},
   "outputs": [
    {
     "name": "stdout",
     "output_type": "stream",
     "text": [
      "[0. 1. 1. 0. 1. 1. 1. 0. 1. 1. 1. 1. 1. 1. 1. 1. 0. 1. 0. 1. 1. 1. 1. 1.\n",
      " 1. 1. 0. 1. 1. 1. 0. 1. 1. 1. 1. 1. 1. 1. 1. 0. 1. 1. 1. 1. 1. 1. 1. 1.\n",
      " 1. 0. 0. 1. 1. 1. 1. 1. 1. 0. 0. 1. 0. 1. 1. 1. 0. 1. 1. 1. 1. 1. 1. 1.\n",
      " 1. 0. 1. 1. 1. 0. 1. 1. 1. 1. 1. 0. 1. 0. 0. 1. 0. 1. 0. 1. 1. 0. 1. 0.\n",
      " 1. 1. 0. 1.]\n"
     ]
    }
   ],
   "source": [
    "dldic = divide_groupsDL(Xtr1,ytr1,Ztr1)"
   ]
  },
  {
   "cell_type": "code",
   "execution_count": 108,
   "metadata": {},
   "outputs": [
    {
     "data": {
      "text/plain": [
       "{0.0: <torch.utils.data.dataloader.DataLoader at 0x7f69fc94ddf0>,\n",
       " 1.0: <torch.utils.data.dataloader.DataLoader at 0x7f69fd3eb670>}"
      ]
     },
     "execution_count": 108,
     "metadata": {},
     "output_type": "execute_result"
    }
   ],
   "source": [
    "dldic"
   ]
  },
  {
   "cell_type": "code",
   "execution_count": 23,
   "metadata": {
    "scrolled": true
   },
   "outputs": [
    {
     "name": "stdout",
     "output_type": "stream",
     "text": [
      "[0. 1. 1. 0. 1. 1. 1. 0. 1. 1. 1. 1. 1. 1. 1. 1. 0. 1. 0. 1. 1. 1. 1. 1.\n",
      " 1. 1. 0. 1. 1. 1. 0. 1. 1. 1. 1. 1. 1. 1. 1. 0. 1. 1. 1. 1. 1. 1. 1. 1.\n",
      " 1. 0. 0. 1. 1. 1. 1. 1. 1. 0. 0. 1. 0. 1. 1. 1. 0. 1. 1. 1. 1. 1. 1. 1.\n",
      " 1. 0. 1. 1. 1. 0. 1. 1. 1. 1. 1. 0. 1. 0. 0. 1. 0. 1. 0. 1. 1. 0. 1. 0.\n",
      " 1. 1. 0. 1.]\n"
     ]
    },
    {
     "name": "stderr",
     "output_type": "stream",
     "text": [
      "/home/srp/Fairness/fairness_AL/codes/load_data.py:31: UserWarning: To copy construct from a tensor, it is recommended to use sourceTensor.clone().detach() or sourceTensor.clone().detach().requires_grad_(True), rather than torch.tensor(sourceTensor).\n",
      "  tensors = (torch.tensor(da).float() for da in dataarrays)\n"
     ]
    }
   ],
   "source": [
    "trTensors = train_loader.dataset.tensors\n",
    "dldic = divide_groupsDL(trTensors[0],trTensors[1],trTensors[2])"
   ]
  },
  {
   "cell_type": "code",
   "execution_count": 217,
   "metadata": {},
   "outputs": [
    {
     "name": "stdout",
     "output_type": "stream",
     "text": [
      "True\n"
     ]
    }
   ],
   "source": [
    "print(type(Xtr)==np.ndarray)"
   ]
  },
  {
   "cell_type": "code",
   "execution_count": 219,
   "metadata": {},
   "outputs": [
    {
     "data": {
      "text/plain": [
       "True"
      ]
     },
     "execution_count": 219,
     "metadata": {},
     "output_type": "execute_result"
    }
   ],
   "source": [
    "type(trTensors[2]) == torch.Tensor"
   ]
  },
  {
   "cell_type": "markdown",
   "metadata": {},
   "source": [
    "# Group Selection Part"
   ]
  },
  {
   "cell_type": "markdown",
   "metadata": {},
   "source": [
    "## Test Group Performance"
   ]
  },
  {
   "cell_type": "code",
   "execution_count": 25,
   "metadata": {},
   "outputs": [],
   "source": [
    "from fair_eval import *"
   ]
  },
  {
   "cell_type": "code",
   "execution_count": 110,
   "metadata": {},
   "outputs": [],
   "source": [
    "def test_model_noz(model, test_loader, criterion, device):\n",
    "    model.eval()\n",
    "    losses = AverageVarMeter()\n",
    "    accs = AverageVarMeter()\n",
    "    for batch_idx, (x,y) in enumerate(test_loader):\n",
    "        x = x.to(device)\n",
    "        y = y.to(device)\n",
    "        p_y = model(x)\n",
    "        loss = criterion(p_y,y)\n",
    "        \n",
    "        acc = accuracy_b(p_y, y.detach().cpu())\n",
    "        losses.update(loss,x.size(0))\n",
    "        accs.update(acc,x.size(0))\n",
    "    return losses.avg, accs.avg"
   ]
  },
  {
   "cell_type": "code",
   "execution_count": 111,
   "metadata": {},
   "outputs": [
    {
     "name": "stdout",
     "output_type": "stream",
     "text": [
      "0.0 : (tensor(0.5414, device='cuda:1', grad_fn=<DivBackward0>), tensor(66.6667))\n",
      "1.0 : (tensor(0.4916, device='cuda:1', grad_fn=<DivBackward0>), tensor(72.3684))\n"
     ]
    }
   ],
   "source": [
    "for did in dldic.keys():\n",
    "    print(did, \":\", test_model_noz(clf, dldic[did],criterion, device))"
   ]
  },
  {
   "cell_type": "markdown",
   "metadata": {},
   "source": [
    "## find examples for the worst group"
   ]
  },
  {
   "cell_type": "code",
   "execution_count": 24,
   "metadata": {},
   "outputs": [],
   "source": [
    "from fairAL_utils import *"
   ]
  },
  {
   "cell_type": "code",
   "execution_count": 113,
   "metadata": {},
   "outputs": [
    {
     "name": "stdout",
     "output_type": "stream",
     "text": [
      "0.0\n",
      "1.0\n"
     ]
    }
   ],
   "source": [
    "grads = group_grad(clf,dldic, criterion,device)"
   ]
  },
  {
   "cell_type": "code",
   "execution_count": 114,
   "metadata": {},
   "outputs": [
    {
     "data": {
      "text/plain": [
       "tensor(0.7189, device='cuda:1')"
      ]
     },
     "execution_count": 114,
     "metadata": {},
     "output_type": "execute_result"
    }
   ],
   "source": [
    "torch.matmul(grads[0.0],grads[1.0])"
   ]
  },
  {
   "cell_type": "code",
   "execution_count": 116,
   "metadata": {
    "scrolled": true
   },
   "outputs": [],
   "source": [
    "aa = torch.topk(compute_gradsim(clf, select_loader, criterion, grads[0.0], device),32)"
   ]
  },
  {
   "cell_type": "code",
   "execution_count": 117,
   "metadata": {
    "scrolled": true
   },
   "outputs": [
    {
     "name": "stdout",
     "output_type": "stream",
     "text": [
      "torch.return_types.topk(\n",
      "values=tensor([0.5606, 0.5110, 0.4959, 0.4957, 0.4945, 0.4930, 0.4918, 0.4627, 0.4565,\n",
      "        0.4475, 0.4469, 0.4321, 0.4267, 0.4174, 0.4127, 0.4110, 0.4089, 0.4012,\n",
      "        0.3997, 0.3913, 0.3907, 0.3836, 0.3823, 0.3799, 0.3797, 0.3758, 0.3681,\n",
      "        0.3664, 0.3655, 0.3638, 0.3578, 0.3567], device='cuda:1'),\n",
      "indices=tensor([498, 100, 494, 439, 355, 379,   9, 152, 188, 251, 219, 317, 255, 396,\n",
      "        112, 544, 474, 412, 246, 294, 457, 105,  45, 232, 409, 382, 424, 539,\n",
      "         65,  40, 358, 411], device='cuda:1'))\n"
     ]
    }
   ],
   "source": [
    "print(aa)"
   ]
  },
  {
   "cell_type": "code",
   "execution_count": 118,
   "metadata": {
    "scrolled": true
   },
   "outputs": [
    {
     "data": {
      "text/plain": [
       "tensor([1., 1., 1., 1., 0., 0., 1., 1., 1., 1., 1., 1., 1., 1., 1., 1., 1., 1.,\n",
       "        1., 1., 1., 0., 1., 0., 0., 0., 1., 0., 1., 1., 1., 1.])"
      ]
     },
     "execution_count": 118,
     "metadata": {},
     "output_type": "execute_result"
    }
   ],
   "source": [
    "select_loader.dataset.tensors[2][aa[1]]"
   ]
  },
  {
   "cell_type": "code",
   "execution_count": 43,
   "metadata": {},
   "outputs": [],
   "source": [
    "def select_examples(clf,select_loader,criterion, grad_z, device, nsample = 32):\n",
    "    aa = torch.topk(compute_gradsim(clf, select_loader, criterion, grad_z, device),nsample)\n",
    "    ses = []\n",
    "    for ts in select_loader.dataset.tensors:\n",
    "        ses.append(ts[aa[1]])\n",
    "    return ses,aa[1]"
   ]
  },
  {
   "cell_type": "code",
   "execution_count": 128,
   "metadata": {},
   "outputs": [],
   "source": [
    "ses,sidx = select_examples(clf, select_loader, criterion, grads[0.0],device, nsample = 32)"
   ]
  },
  {
   "cell_type": "code",
   "execution_count": 147,
   "metadata": {},
   "outputs": [],
   "source": [
    "ses[2] = ses[2].reshape(-1,1)"
   ]
  },
  {
   "cell_type": "markdown",
   "metadata": {},
   "source": [
    "## retraining models"
   ]
  },
  {
   "cell_type": "code",
   "execution_count": 44,
   "metadata": {},
   "outputs": [],
   "source": [
    "def obtain_newDS(train_loader, select_loader,ses, sidx, batch_size = 32):\n",
    "    ds1 = []\n",
    "    for i, tss in enumerate(train_loader.dataset.tensors):\n",
    "        ds1.append(np.append(tss,ses[i],axis = 0))\n",
    "    ds2 = []\n",
    "    for tss in select_loader.dataset.tensors:\n",
    "        ds2.append(np.delete(tss,sidx.detach().cpu(),axis=0))\n",
    "    tr_loader = DataLoader(NPsDataSet(ds1[0],ds1[1],ds1[2]),batch_size = batch_size, shuffle=True)\n",
    "    se_loader = DataLoader(NPsDataSet(ds2[0],ds2[1],ds2[2]),batch_size = batch_size, shuffle=False)\n",
    "    \n",
    "    return tr_loader, se_loader"
   ]
  },
  {
   "cell_type": "code",
   "execution_count": 163,
   "metadata": {},
   "outputs": [],
   "source": [
    "train_loader2, select_loader2 = obtain_newDS(train_loader, select_loader, ses, sidx, 32)"
   ]
  },
  {
   "cell_type": "code",
   "execution_count": null,
   "metadata": {},
   "outputs": [],
   "source": [
    "train_loader.dataset.tensors"
   ]
  },
  {
   "cell_type": "code",
   "execution_count": 24,
   "metadata": {},
   "outputs": [
    {
     "data": {
      "text/plain": [
       "tensor(2)"
      ]
     },
     "execution_count": 24,
     "metadata": {},
     "output_type": "execute_result"
    }
   ],
   "source": [
    "torch.argmax(torch.tensor([1,2,3]))"
   ]
  },
  {
   "cell_type": "code",
   "execution_count": 165,
   "metadata": {},
   "outputs": [
    {
     "data": {
      "text/plain": [
       "torch.Size([164, 23])"
      ]
     },
     "execution_count": 165,
     "metadata": {},
     "output_type": "execute_result"
    }
   ],
   "source": [
    "train_loader2.dataset.tensors[0].shape"
   ]
  },
  {
   "cell_type": "code",
   "execution_count": 189,
   "metadata": {},
   "outputs": [
    {
     "name": "stdout",
     "output_type": "stream",
     "text": [
      "train epochs/batch: 30/32\n",
      "AL iters/batch: 10/32\n"
     ]
    }
   ],
   "source": [
    "args.print_args()"
   ]
  },
  {
   "cell_type": "code",
   "execution_count": 29,
   "metadata": {},
   "outputs": [],
   "source": [
    "def group_grad(clf, dldic, criterion, device):\n",
    "    grads={}\n",
    "    clf.eval()\n",
    "    for did in dldic.keys():\n",
    "        print(did)\n",
    "        grads[did] = cal_meangrad(clf, dldic[did], criterion, device)\n",
    "    return grads\n",
    "def cal_meangrad(clf, dataloader, criterion, device):\n",
    "    \n",
    "    for i,(x,y) in enumerate(dataloader):\n",
    "        x = x.to(device)\n",
    "        y = y.to(device)\n",
    "        clf.zero_grad()\n",
    "        outs = clf(x)\n",
    "        criterion(outs,y).backward()\n",
    "        tmp = []\n",
    "        for param in clf.parameters():\n",
    "            tmp.append(param.grad.flatten())\n",
    "        grads_t = torch.cat(tmp)\n",
    "        if i==0:\n",
    "            grads = grads_t\n",
    "        else:\n",
    "            grads += grads_t\n",
    "    prgrad_n = torch.norm(grads)\n",
    "    grads /= prgrad_n\n",
    "    grads = grads.detach().cpu()\n",
    "    return grads"
   ]
  },
  {
   "cell_type": "code",
   "execution_count": 60,
   "metadata": {},
   "outputs": [],
   "source": [
    "def compute_gradsim(clf, select_loader, criterion, grad_z,device):\n",
    "    clf.eval()\n",
    "    autograd_hacks.add_hooks(clf)\n",
    "    sims = []\n",
    "    for i, (x,y,_) in enumerate(select_loader):\n",
    "        x = x.to(device)\n",
    "        y = y.to(device)\n",
    "        clf.zero_grad()\n",
    "        clear_backprops(clf)\n",
    "        outs = clf(x)\n",
    "        count_backprops(clf)\n",
    "        criterion(outs,y).backward()\n",
    "        remove_backprops(clf)\n",
    "        autograd_hacks.compute_grad1(clf)\n",
    "        tmp = []\n",
    "        for j, param in enumerate(clf.parameters()):\n",
    "            tmp.append(param.grad1.reshape(x.size(0),-1))\n",
    "        grad_t = torch.cat(tmp,dim=1).cuda()\n",
    "        print(grad_t)\n",
    "        print(grad_z)\n",
    "        sims.append(torch.matmul(grad_t,grad_z.cuda()))\n",
    "    return torch.cat(sims).detach().cpu()"
   ]
  },
  {
   "cell_type": "code",
   "execution_count": 26,
   "metadata": {},
   "outputs": [],
   "source": [
    "def train_AL(train_loader, select_loader, device, args = None, test_loader = None, from_scratch = False):\n",
    "    if args is None:\n",
    "        args = Args()\n",
    "    print(\"arguments: \", args.print_args())\n",
    "    n_features = train_loader.dataset.tensors[0].shape[1]\n",
    "    if from_scratch == False:\n",
    "        clf = Classifier(n_features=n_features)\n",
    "        clf_criterion = nn.BCELoss()\n",
    "        clf_optimizer = optim.Adam(clf.parameters())\n",
    "    \n",
    "    assert((args.AL_iters-1)*args.AL_batch<select_loader.dataset.tensors[0].shape[0])\n",
    "    for it in range(args.AL_iters):\n",
    "        if from_scratch:\n",
    "            clf = Classifier(n_features=n_features)\n",
    "            clf_criterion = nn.BCELoss()\n",
    "            clf_optimizer = optim.Adam(clf.parameters())\n",
    "        clf.cuda()\n",
    "        train_model(clf, train_loader, clf_criterion, clf_optimizer, device, args, test_loader)\n",
    "        trTensors = train_loader.dataset.tensors\n",
    "        dldic = divide_groupsDL(trTensors[0],trTensors[1],trTensors[2])\n",
    "        losss = 0\n",
    "        accs = 0\n",
    "        sid = list(dldic.keys())[0]\n",
    "        for did in dldic.keys():\n",
    "            loss_v, acc_v = test_model_noz(clf, dldic[did],clf_criterion, device)\n",
    "            print(\"{} : loss {} / acc {}\".format(did, loss_v, acc_v))\n",
    "            if args.AL_select == 'loss':\n",
    "                if losss > loss_v:\n",
    "                    sid = did\n",
    "            else:\n",
    "                assert args.AL_select == 'acc'\n",
    "                if accs < acc_v:\n",
    "                    sid = did\n",
    "        if it <args.AL_iters-1:\n",
    "            grads = cal_meangrad(clf, dldic[sid], clf_criterion, device)\n",
    "            ses,sidx = select_examples(clf, select_loader, clf_criterion, grads,device, args.AL_batch)\n",
    "            print(ses)\n",
    "            train_loader, select_loader = obtain_newDS(train_loader, select_loader, ses, sidx, args.batch_size)\n",
    "    return clf    "
   ]
  },
  {
   "cell_type": "code",
   "execution_count": 27,
   "metadata": {},
   "outputs": [
    {
     "data": {
      "image/png": "[encoded data removed]",
      "text/plain": [
       "<Figure size 864x576 with 2 Axes>"
      ]
     },
     "metadata": {
      "needs_background": "light"
     },
     "output_type": "display_data"
    },
    {
     "name": "stdout",
     "output_type": "stream",
     "text": [
      "Accuracy\n",
      "\ttraining         \t (min:   69.792, max:   72.917, cur:   71.875)\n",
      "\tvalidation       \t (min:   69.333, max:   69.333, cur:   69.333)\n",
      "Loss\n",
      "\ttraining         \t (min:    0.524, max:    0.658, cur:    0.524)\n",
      "\tvalidation       \t (min:    0.562, max:    0.658, cur:    0.562)\n",
      "Finished Training\n"
     ]
    },
    {
     "ename": "IndexError",
     "evalue": "The shape of the mask [100, 1] at index 1 does not match the shape of the indexed tensor [100, 23] at index 1",
     "output_type": "error",
     "traceback": [
      "\u001b[0;31m---------------------------------------------------------------------------\u001b[0m",
      "\u001b[0;31mIndexError\u001b[0m                                Traceback (most recent call last)",
      "\u001b[0;32m<ipython-input-27-1e3ab8eb93d4>\u001b[0m in \u001b[0;36m<module>\u001b[0;34m\u001b[0m\n\u001b[0;32m----> 1\u001b[0;31m \u001b[0mtrain_AL\u001b[0m\u001b[0;34m(\u001b[0m\u001b[0mtrain_loader\u001b[0m\u001b[0;34m,\u001b[0m \u001b[0mselect_loader\u001b[0m\u001b[0;34m,\u001b[0m \u001b[0mdevice\u001b[0m\u001b[0;34m,\u001b[0m \u001b[0margs\u001b[0m\u001b[0;34m,\u001b[0m \u001b[0mtest_loader\u001b[0m\u001b[0;34m,\u001b[0m \u001b[0mfrom_scratch\u001b[0m \u001b[0;34m=\u001b[0m \u001b[0;32mFalse\u001b[0m\u001b[0;34m)\u001b[0m\u001b[0;34m\u001b[0m\u001b[0;34m\u001b[0m\u001b[0m\n\u001b[0m",
      "\u001b[0;32m<ipython-input-26-c851aaecace8>\u001b[0m in \u001b[0;36mtrain_AL\u001b[0;34m(train_loader, select_loader, device, args, test_loader, from_scratch)\u001b[0m\n\u001b[1;32m     18\u001b[0m         \u001b[0mtrain_model\u001b[0m\u001b[0;34m(\u001b[0m\u001b[0mclf\u001b[0m\u001b[0;34m,\u001b[0m \u001b[0mtrain_loader\u001b[0m\u001b[0;34m,\u001b[0m \u001b[0mclf_criterion\u001b[0m\u001b[0;34m,\u001b[0m \u001b[0mclf_optimizer\u001b[0m\u001b[0;34m,\u001b[0m \u001b[0mdevice\u001b[0m\u001b[0;34m,\u001b[0m \u001b[0margs\u001b[0m\u001b[0;34m,\u001b[0m \u001b[0mtest_loader\u001b[0m\u001b[0;34m)\u001b[0m\u001b[0;34m\u001b[0m\u001b[0;34m\u001b[0m\u001b[0m\n\u001b[1;32m     19\u001b[0m         \u001b[0mtrTensors\u001b[0m \u001b[0;34m=\u001b[0m \u001b[0mtrain_loader\u001b[0m\u001b[0;34m.\u001b[0m\u001b[0mdataset\u001b[0m\u001b[0;34m.\u001b[0m\u001b[0mtensors\u001b[0m\u001b[0;34m\u001b[0m\u001b[0;34m\u001b[0m\u001b[0m\n\u001b[0;32m---> 20\u001b[0;31m         \u001b[0mdldic\u001b[0m \u001b[0;34m=\u001b[0m \u001b[0mdivide_groupsDL\u001b[0m\u001b[0;34m(\u001b[0m\u001b[0mtrTensors\u001b[0m\u001b[0;34m[\u001b[0m\u001b[0;36m0\u001b[0m\u001b[0;34m]\u001b[0m\u001b[0;34m,\u001b[0m\u001b[0mtrTensors\u001b[0m\u001b[0;34m[\u001b[0m\u001b[0;36m1\u001b[0m\u001b[0;34m]\u001b[0m\u001b[0;34m,\u001b[0m\u001b[0mtrTensors\u001b[0m\u001b[0;34m[\u001b[0m\u001b[0;36m2\u001b[0m\u001b[0;34m]\u001b[0m\u001b[0;34m)\u001b[0m\u001b[0;34m\u001b[0m\u001b[0;34m\u001b[0m\u001b[0m\n\u001b[0m\u001b[1;32m     21\u001b[0m         \u001b[0mlosss\u001b[0m \u001b[0;34m=\u001b[0m \u001b[0;36m0\u001b[0m\u001b[0;34m\u001b[0m\u001b[0;34m\u001b[0m\u001b[0m\n\u001b[1;32m     22\u001b[0m         \u001b[0maccs\u001b[0m \u001b[0;34m=\u001b[0m \u001b[0;36m0\u001b[0m\u001b[0;34m\u001b[0m\u001b[0;34m\u001b[0m\u001b[0m\n",
      "\u001b[0;32m~/Fairness/fairness_AL/codes/fair_eval.py\u001b[0m in \u001b[0;36mdivide_groupsDL\u001b[0;34m(x, y, z, batch_size)\u001b[0m\n\u001b[1;32m     10\u001b[0m     \u001b[0;32mfor\u001b[0m \u001b[0mzu\u001b[0m \u001b[0;32min\u001b[0m \u001b[0mzsu\u001b[0m\u001b[0;34m:\u001b[0m\u001b[0;34m\u001b[0m\u001b[0;34m\u001b[0m\u001b[0m\n\u001b[1;32m     11\u001b[0m         \u001b[0mz_idx\u001b[0m \u001b[0;34m=\u001b[0m \u001b[0mzs\u001b[0m \u001b[0;34m==\u001b[0m \u001b[0mzu\u001b[0m\u001b[0;34m\u001b[0m\u001b[0;34m\u001b[0m\u001b[0m\n\u001b[0;32m---> 12\u001b[0;31m         \u001b[0mxx\u001b[0m \u001b[0;34m=\u001b[0m \u001b[0mx\u001b[0m\u001b[0;34m[\u001b[0m\u001b[0mz_idx\u001b[0m\u001b[0;34m]\u001b[0m\u001b[0;34m\u001b[0m\u001b[0;34m\u001b[0m\u001b[0m\n\u001b[0m\u001b[1;32m     13\u001b[0m         \u001b[0myy\u001b[0m \u001b[0;34m=\u001b[0m \u001b[0my\u001b[0m\u001b[0;34m[\u001b[0m\u001b[0mz_idx\u001b[0m\u001b[0;34m]\u001b[0m\u001b[0;34m\u001b[0m\u001b[0;34m\u001b[0m\u001b[0m\n\u001b[1;32m     14\u001b[0m         \u001b[0mdaloader\u001b[0m \u001b[0;34m=\u001b[0m \u001b[0mDataLoader\u001b[0m\u001b[0;34m(\u001b[0m\u001b[0mNPsDataSet\u001b[0m\u001b[0;34m(\u001b[0m\u001b[0mxx\u001b[0m\u001b[0;34m,\u001b[0m\u001b[0myy\u001b[0m\u001b[0;34m)\u001b[0m\u001b[0;34m,\u001b[0m\u001b[0mbatch_size\u001b[0m \u001b[0;34m=\u001b[0m \u001b[0;36m32\u001b[0m\u001b[0;34m,\u001b[0m\u001b[0mshuffle\u001b[0m\u001b[0;34m=\u001b[0m\u001b[0;32mFalse\u001b[0m\u001b[0;34m)\u001b[0m\u001b[0;34m\u001b[0m\u001b[0;34m\u001b[0m\u001b[0m\n",
      "\u001b[0;31mIndexError\u001b[0m: The shape of the mask [100, 1] at index 1 does not match the shape of the indexed tensor [100, 23] at index 1"
     ]
    }
   ],
   "source": [
    "train_AL(train_loader, select_loader, device, args, test_loader, from_scratch = False)"
   ]
  },
  {
   "cell_type": "code",
   "execution_count": 40,
   "metadata": {},
   "outputs": [
    {
     "data": {
      "text/plain": [
       "[0.0, 1.0]"
      ]
     },
     "execution_count": 40,
     "metadata": {},
     "output_type": "execute_result"
    }
   ],
   "source": []
  },
  {
   "cell_type": "code",
   "execution_count": null,
   "metadata": {},
   "outputs": [],
   "source": []
  }
 ],
 "metadata": {
  "kernelspec": {
   "display_name": "pytorch15",
   "language": "python",
   "name": "pytorch15"
  },
  "language_info": {
   "codemirror_mode": {
    "name": "ipython",
    "version": 3
   },
   "file_extension": ".py",
   "mimetype": "text/x-python",
   "name": "python",
   "nbconvert_exporter": "python",
   "pygments_lexer": "ipython3",
   "version": "3.8.3"
  }
 },
 "nbformat": 4,
 "nbformat_minor": 4
}
