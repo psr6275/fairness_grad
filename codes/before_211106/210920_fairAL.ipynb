{
 "cells": [
  {
   "cell_type": "code",
   "execution_count": 1,
   "metadata": {},
   "outputs": [],
   "source": [
    "import torch"
   ]
  },
  {
   "cell_type": "code",
   "execution_count": 2,
   "metadata": {},
   "outputs": [],
   "source": [
    "from load_data import *"
   ]
  },
  {
   "cell_type": "code",
   "execution_count": 3,
   "metadata": {},
   "outputs": [
    {
     "name": "stdout",
     "output_type": "stream",
     "text": [
      "{'race': array([0., 4., 4., ..., 4., 4., 4.]), 'sex': array([1., 0., 1., ..., 1., 0., 1.])}\n",
      "for others min:  0 and max:  1\n",
      "45222\n",
      "(45222, 2)\n"
     ]
    }
   ],
   "source": [
    "Xtr, Xte, ytr, yte, Ztr, Zte = load_adult_data()\n",
    "ytr = ytr.astype('float32').reshape((-1,1))\n",
    "yte = yte.astype('float32').reshape((-1,1))"
   ]
  },
  {
   "cell_type": "code",
   "execution_count": 4,
   "metadata": {},
   "outputs": [
    {
     "name": "stdout",
     "output_type": "stream",
     "text": [
      "# training samples: (31655, 50)\n",
      "# test samples: (13567, 50)\n",
      "[0. 0. 0. 0. 1. 0. 1. 1. 1. 0.]\n",
      "[[4. 1.]\n",
      " [4. 1.]\n",
      " [4. 0.]\n",
      " [4. 0.]\n",
      " [2. 0.]\n",
      " [4. 1.]\n",
      " [4. 1.]\n",
      " [4. 1.]\n",
      " [4. 1.]\n",
      " [4. 1.]]\n"
     ]
    }
   ],
   "source": [
    "print('# training samples:', Xtr.shape)\n",
    "print('# test samples:', Xte.shape)\n",
    "print(ytr[:10].flatten())\n",
    "print(Ztr[110:120])"
   ]
  },
  {
   "cell_type": "code",
   "execution_count": 5,
   "metadata": {},
   "outputs": [],
   "source": [
    "N1 = 200\n",
    "Xtr1 = Xtr[:N1]\n",
    "ytr1 = ytr[:N1]\n",
    "Ztr1 = Ztr[:N1]\n",
    "Xtr2 = Xtr[N1:]\n",
    "ytr2 = ytr[N1:]\n",
    "Ztr2 = Ztr[N1:]"
   ]
  },
  {
   "cell_type": "code",
   "execution_count": 6,
   "metadata": {},
   "outputs": [],
   "source": [
    "from load_data import *"
   ]
  },
  {
   "cell_type": "code",
   "execution_count": 7,
   "metadata": {},
   "outputs": [],
   "source": [
    "import torch.nn as nn\n",
    "import torch.nn.functional as F\n",
    "import torch.optim as optim"
   ]
  },
  {
   "cell_type": "code",
   "execution_count": 8,
   "metadata": {},
   "outputs": [],
   "source": [
    "class Classifier(nn.Module):\n",
    "\n",
    "    def __init__(self, n_features, n_hidden=32, p_dropout=0.2):\n",
    "        super(Classifier, self).__init__()\n",
    "        self.network = nn.Sequential(\n",
    "            nn.Linear(n_features, n_hidden),\n",
    "            nn.ReLU(),\n",
    "            nn.Dropout(p_dropout),\n",
    "            nn.Linear(n_hidden, n_hidden),\n",
    "            nn.ReLU(),\n",
    "            nn.Dropout(p_dropout),\n",
    "            nn.Linear(n_hidden, n_hidden),\n",
    "            nn.ReLU(),\n",
    "            nn.Dropout(p_dropout),\n",
    "            nn.Linear(n_hidden, 1),\n",
    "        )\n",
    "\n",
    "    def forward(self, x):\n",
    "        return torch.sigmoid(self.network(x))"
   ]
  },
  {
   "cell_type": "code",
   "execution_count": 9,
   "metadata": {},
   "outputs": [],
   "source": [
    "n_features = Xtr.shape[1]\n",
    "clf = Classifier(n_features=n_features)\n",
    "clf_criterion = nn.BCELoss()\n",
    "clf_optimizer = optim.Adam(clf.parameters())"
   ]
  },
  {
   "cell_type": "code",
   "execution_count": 10,
   "metadata": {},
   "outputs": [],
   "source": [
    "train_data = NPsDataSet(Xtr1, ytr1, Ztr1)\n",
    "train_loader = DataLoader(train_data, batch_size=32, shuffle=True, drop_last=True)"
   ]
  },
  {
   "cell_type": "markdown",
   "metadata": {},
   "source": [
    "# GPU setting"
   ]
  },
  {
   "cell_type": "code",
   "execution_count": 11,
   "metadata": {},
   "outputs": [
    {
     "name": "stdout",
     "output_type": "stream",
     "text": [
      "Current cuda device  0\n",
      "GeForce RTX 2080 Ti\n",
      "Memory Usage:\n",
      "Allocated: 0.0 GB\n",
      "Cached:    0.0 GB\n"
     ]
    }
   ],
   "source": [
    "GPU_NUM = 0\n",
    "device = torch.device(f'cuda:{GPU_NUM}' if torch.cuda.is_available() else 'cpu')\n",
    "torch.cuda.set_device(device) # change allocation of current GPU\n",
    "print ('Current cuda device ', torch.cuda.current_device()) # check\n",
    "\n",
    "# Additional Infos\n",
    "if device.type == 'cuda':\n",
    "    print(torch.cuda.get_device_name(GPU_NUM))\n",
    "    print('Memory Usage:')\n",
    "    print('Allocated:', round(torch.cuda.memory_allocated(GPU_NUM)/1024**3,1), 'GB')\n",
    "    print('Cached:   ', round(torch.cuda.memory_cached(GPU_NUM)/1024**3,1), 'GB')"
   ]
  },
  {
   "cell_type": "markdown",
   "metadata": {},
   "source": [
    "- gradient calculation for unlabeled set\n",
    "- expectation \n",
    "- https://discuss.pytorch.org/t/how-to-efficiently-compute-gradient-for-each-training-sample/60001/2 \n",
    "- https://github.com/cybertronai/autograd-hacks#per-example-gradients \n",
    "- https://tutorials.pytorch.kr/intermediate/tensorboard_tutorial.html"
   ]
  },
  {
   "cell_type": "code",
   "execution_count": 12,
   "metadata": {},
   "outputs": [],
   "source": [
    "from torch.utils.tensorboard import SummaryWriter"
   ]
  },
  {
   "cell_type": "code",
   "execution_count": 21,
   "metadata": {},
   "outputs": [],
   "source": [
    "writer = SummaryWriter('../results/adult_data_practice')"
   ]
  },
  {
   "cell_type": "code",
   "execution_count": 12,
   "metadata": {},
   "outputs": [],
   "source": [
    "class args:\n",
    "    epochs = 100\n",
    "    log_interval = 100"
   ]
  },
  {
   "cell_type": "code",
   "execution_count": 13,
   "metadata": {},
   "outputs": [],
   "source": [
    "from pierogi.pierogi import Pierogi"
   ]
  },
  {
   "cell_type": "code",
   "execution_count": 14,
   "metadata": {},
   "outputs": [],
   "source": [
    "def train_model(model, train_loader, criterion, optimizer, device, args):\n",
    "    with Pierogi() as pierogi:\n",
    "        pierogi.configure(nb_epochs=args.epochs,\n",
    "                          nb_batches_per_epoch=len(train_loader))\n",
    "        for epoch in range(args.epochs):\n",
    "            for batch_idx, (x,y, _) in enumerate(train_loader):\n",
    "                x = x.to(device)\n",
    "                y = y.to(device)\n",
    "                optimizer.zero_grad()\n",
    "                p_y = model(x)\n",
    "                loss = criterion(p_y, y)\n",
    "                loss.backward()\n",
    "                optimizer.step()\n",
    "                if batch_idx % args.log_interval ==0:\n",
    "                    message = 'Train Epoch: {} [{}/{} ({:.0f}%)]\\tLoss: {:.6f}'.format(\n",
    "                        epoch, batch_idx * len(data), len(train_loader.dataset),\n",
    "                        100. * batch_idx / len(train_loader), loss.item())\n",
    "                    print(message)\n",
    "                    pierogi.plot_loss(epoch, batch_idx, loss.item())\n",
    "        \n",
    "        input(\"Press enter to exit\")"
   ]
  },
  {
   "cell_type": "code",
   "execution_count": 27,
   "metadata": {},
   "outputs": [],
   "source": [
    "def train_model(model, train_loader, criterion, optimizer, device, args):\n",
    "   \n",
    "    running_loss = 0.0\n",
    "    for epoch in range(args.epochs):\n",
    "        for batch_idx, (x,y, _) in enumerate(train_loader):\n",
    "            x = x.to(device)\n",
    "            y = y.to(device)\n",
    "            optimizer.zero_grad()\n",
    "            p_y = model(x)\n",
    "            loss = criterion(p_y, y)\n",
    "            loss.backward()\n",
    "            optimizer.step()\n",
    "            \n",
    "            running_loss += loss.item()\n",
    "            if batch_idx % args.log_interval ==0:\n",
    "                writer.add_scalar('training loss', running_loss/args.log_interval,\n",
    "                                 epoch * len(train_loader) + batch_idx)\n",
    "                running_loss = 0.0\n",
    "    print('Finished Training')"
   ]
  },
  {
   "cell_type": "code",
   "execution_count": 13,
   "metadata": {},
   "outputs": [],
   "source": [
    "class AverageVarMeter(object):\n",
    "    def __init__(self):\n",
    "        self.reset()\n",
    "    def reset(self):\n",
    "        self.val=0\n",
    "        self.sum2 = 0\n",
    "        self.avg=0\n",
    "        self.sum=0\n",
    "        self.count=0\n",
    "\n",
    "    def update(self,val,n=1):\n",
    "        self.val = val\n",
    "        self.sum2 += (val**2)*n\n",
    "        self.sum +=val*n\n",
    "        self.count +=n\n",
    "        self.avg = self.sum / self.count"
   ]
  },
  {
   "cell_type": "code",
   "execution_count": 28,
   "metadata": {},
   "outputs": [],
   "source": [
    "from livelossplot import PlotLosses\n",
    "from eval_utils import *\n",
    "def train_model(model, train_loader, criterion, optimizer, device, args):\n",
    "    model.train()\n",
    "    liveloss = PlotLosses()\n",
    "    losses = AverageVarMeter()\n",
    "    accs = AverageVarMeter()\n",
    "    logs = {}\n",
    "    for epoch in range(args.epochs):\n",
    "        for batch_idx, (x,y, _) in enumerate(train_loader):\n",
    "            x = x.to(device)\n",
    "            y = y.to(device)\n",
    "            optimizer.zero_grad()\n",
    "            p_y = model(x)\n",
    "            loss = criterion(p_y, y)\n",
    "            loss.backward()\n",
    "            optimizer.step()\n",
    "            acc = accuracy_b(p_y,y.detach().cpu())\n",
    "            \n",
    "            losses.update(loss,x.size(0))\n",
    "            accs.update(acc,x.size(0))\n",
    "#             if batch_idx % args.log_interval ==0:\n",
    "#                 message = 'Train Epoch: {} [{}/{} ({:.0f}%)]\\tLoss: {:.6f}'.format(\n",
    "#                         epoch, batch_idx * len(y), len(train_loader.dataset),\n",
    "#                         100. * batch_idx / len(train_loader), loss.item())\n",
    "#                 print(message)\n",
    "        logs['train loss'] = losses.avg\n",
    "        logs['train acc'] = accs.avg\n",
    "        liveloss.update(logs)\n",
    "        liveloss.send()\n",
    "    print('Finished Training')"
   ]
  },
  {
   "cell_type": "code",
   "execution_count": 29,
   "metadata": {},
   "outputs": [],
   "source": [
    "n_features = Xtr.shape[1]\n",
    "clf = Classifier(n_features=n_features).cuda()\n",
    "criterion = nn.BCELoss()\n",
    "optimizer = optim.Adam(clf.parameters())"
   ]
  },
  {
   "cell_type": "code",
   "execution_count": 30,
   "metadata": {},
   "outputs": [],
   "source": [
    "clf.eval()\n",
    "preds = clf(torch.tensor(Xtr[:10],dtype = torch.float32).cuda())"
   ]
  },
  {
   "cell_type": "code",
   "execution_count": 31,
   "metadata": {},
   "outputs": [
    {
     "data": {
      "image/png": "[encoded data removed]",
      "text/plain": [
       "<Figure size 864x576 with 2 Axes>"
      ]
     },
     "metadata": {
      "needs_background": "light"
     },
     "output_type": "display_data"
    },
    {
     "name": "stdout",
     "output_type": "stream",
     "text": [
      "train acc\n",
      "\ttrain acc        \t (min:   75.365, max:   88.818, cur:   88.818)\n",
      "train loss\n",
      "\ttrain loss       \t (min:    0.247, max:    0.644, cur:    0.247)\n",
      "Finished Training\n"
     ]
    }
   ],
   "source": [
    "train_model(clf, train_loader, criterion, optimizer, device, args)"
   ]
  },
  {
   "cell_type": "code",
   "execution_count": 15,
   "metadata": {},
   "outputs": [],
   "source": [
    "from fair_eval import calculate_prule_clf, calculate_odds_clf, calculate_parity_reg, calculate_group_loss,l2_loss, calculate_overall_accuracy"
   ]
  },
  {
   "cell_type": "code",
   "execution_count": 58,
   "metadata": {},
   "outputs": [],
   "source": [
    "pred = (clf(torch.tensor(Xte).float())>0.5).float()\n",
    "pred = pred.cpu().detach().numpy().flatten()"
   ]
  },
  {
   "cell_type": "code",
   "execution_count": 59,
   "metadata": {},
   "outputs": [],
   "source": [
    "pred_ = clf(torch.tensor(Xte).float())\n",
    "pred_ = pred_.cpu().detach().numpy().flatten()"
   ]
  },
  {
   "cell_type": "code",
   "execution_count": 60,
   "metadata": {
    "scrolled": true
   },
   "outputs": [
    {
     "name": "stdout",
     "output_type": "stream",
     "text": [
      "[2.3538221e-01 1.2413255e-03 1.0000000e+00 1.0000000e+00 1.0000000e+00\n",
      " 1.0000000e+00 1.0000000e+00 2.0511901e-01 1.0000000e+00 9.6937490e-01\n",
      " 9.9749798e-01 9.9981707e-01 1.0000000e+00 9.9999428e-01 9.9767429e-01\n",
      " 1.0000000e+00 9.9999225e-01 8.9258230e-01 1.0000000e+00 1.5512447e-01\n",
      " 3.9171115e-02 1.0000000e+00 1.0000000e+00 1.0000000e+00 1.0000000e+00\n",
      " 9.9999976e-01 1.0000000e+00 1.0000000e+00 1.0000000e+00 6.2504935e-04\n",
      " 1.0000000e+00 1.0000000e+00 9.9999893e-01 9.9998915e-01 1.0654778e-04\n",
      " 8.3752722e-01 1.5092101e-03 6.6149596e-04 9.9966538e-01 1.0000000e+00\n",
      " 1.0000000e+00 9.9997866e-01 1.5397543e-02 1.0000000e+00 9.9881738e-01\n",
      " 9.7381896e-01 9.1319686e-01 9.9588531e-01 1.0000000e+00 9.7905046e-01\n",
      " 5.4246902e-02 1.6641982e-04 1.0000000e+00 1.0000000e+00 1.7419867e-03\n",
      " 1.0000000e+00 1.0000000e+00 1.3249847e-01 7.8252349e-03 4.2536462e-04\n",
      " 9.9997997e-01 4.9439285e-02 1.0000000e+00 5.3632051e-01 1.9662890e-03\n",
      " 1.0000000e+00 9.9866188e-01 9.9999988e-01 9.9997520e-01 2.8819951e-01\n",
      " 9.9975568e-01 1.0000000e+00 1.1030303e-01 8.2415603e-03 3.1414557e-02\n",
      " 9.9999952e-01 6.0130604e-02 1.0000000e+00 1.0000000e+00 9.9957699e-01\n",
      " 9.2873907e-01 9.9999237e-01 9.9993455e-01 1.0000000e+00 9.9396509e-01\n",
      " 1.0000000e+00 1.0000000e+00 1.5753222e-04 1.0074365e-01 1.0475970e-02\n",
      " 1.0000000e+00 7.5655419e-01 1.0000000e+00 1.0000000e+00 8.2705164e-01\n",
      " 5.5044298e-03 9.9999928e-01 1.0000000e+00 1.0000000e+00 9.9999022e-01\n",
      " 9.9768901e-01 9.9770868e-01 1.0000000e+00 1.0000000e+00 1.0000000e+00\n",
      " 9.9709785e-01 1.0000000e+00 1.0000000e+00 2.7392080e-01 5.4643400e-02\n",
      " 9.9999917e-01 5.0548557e-02 1.0000000e+00 9.9990773e-01 1.0000000e+00\n",
      " 9.9067861e-01 9.6403897e-01 1.0000000e+00 7.0000383e-06 9.9999309e-01\n",
      " 9.1503179e-01 1.0000000e+00 8.8355869e-01 2.2542334e-01 6.2517733e-03\n",
      " 9.9903226e-01 7.9995257e-01 1.0000000e+00 1.9328268e-02 1.0000000e+00\n",
      " 2.7221458e-02 3.2781258e-02 3.6487794e-01 6.7649223e-02 2.0475382e-02\n",
      " 9.9991584e-01 1.0000000e+00 2.6394861e-02 5.8535558e-01 9.9999940e-01\n",
      " 9.5832124e-03 9.9999976e-01 1.0000000e+00 3.2262895e-02 7.0173371e-01\n",
      " 1.4677916e-02 5.8551413e-01 1.0000000e+00 9.7566766e-01 9.9972945e-01\n",
      " 9.9998176e-01 8.6663276e-02 9.9949992e-01 1.0000000e+00 9.7485334e-03\n",
      " 1.0000000e+00 1.0000000e+00 9.9997175e-01 1.0000000e+00 1.0000000e+00\n",
      " 1.9013941e-01 9.9999893e-01 6.2989283e-01 9.9999976e-01 9.9487972e-01\n",
      " 9.9338782e-01 9.9876958e-01 1.0000000e+00 9.9690455e-01 4.9829233e-01\n",
      " 9.9999976e-01 1.0000000e+00 9.9990404e-01 1.0000000e+00 9.9880838e-01\n",
      " 1.0000000e+00 1.0000000e+00 9.9993253e-01 3.7778094e-02 7.4017286e-01\n",
      " 1.0000000e+00 1.0000000e+00 9.2695713e-01 9.9975079e-01 1.0000000e+00\n",
      " 9.1653281e-01 1.0000000e+00 1.0000000e+00 5.8316296e-01 4.6569025e-04\n",
      " 1.0000000e+00 1.0000000e+00 9.9939179e-01 1.4596859e-02 9.9999821e-01\n",
      " 3.9783489e-02 1.0000000e+00 3.8326302e-01 1.0000000e+00 5.5017382e-01\n",
      " 6.1889773e-04 3.2678687e-03 1.0000000e+00 9.0219975e-01 9.9351525e-01\n",
      " 7.3268831e-02 9.9999988e-01 9.9999797e-01 9.9956864e-01 1.0000000e+00\n",
      " 9.9980110e-01 3.0366111e-01 1.4561601e-03 9.9905890e-01 1.0000000e+00\n",
      " 4.3279868e-02 1.0000000e+00 4.9564967e-01 2.4223497e-02 1.0000000e+00\n",
      " 1.0000000e+00 9.9998868e-01 5.9337997e-01 1.0000000e+00 1.0000000e+00\n",
      " 1.2682823e-07 1.0000000e+00 2.2217408e-01 3.6133876e-01 1.0000000e+00\n",
      " 1.0000000e+00 9.8486888e-01 2.1566124e-01 9.9999726e-01 9.5340520e-01\n",
      " 2.4408330e-01 9.9998701e-01 5.9953108e-02 1.0715209e-02 3.5062075e-01\n",
      " 1.4791712e-01 8.5614711e-01 9.6819156e-01 1.5467854e-04 9.9999928e-01\n",
      " 8.3053410e-03 4.7635183e-02 1.0233469e-04 1.0000000e+00 5.2152085e-01\n",
      " 9.9997008e-01 3.3128554e-01 1.0000000e+00 9.9965310e-01 9.9937516e-01\n",
      " 9.9999881e-01 2.2750752e-01 1.0000000e+00 2.3326404e-01 6.2556344e-01\n",
      " 9.3713015e-01 1.0000000e+00 1.0000000e+00 4.6645212e-01 2.7022683e-03\n",
      " 2.3132644e-03 4.5541570e-01 1.0000000e+00 9.9999487e-01 1.0000000e+00\n",
      " 9.9972457e-01 9.3071505e-02 1.0000000e+00 4.2049424e-03 1.0000000e+00\n",
      " 9.9922156e-01 3.2363139e-05 9.9999940e-01 2.0593198e-01 9.9782026e-01\n",
      " 9.5754737e-01 9.9976689e-01 9.9823040e-01 1.0000000e+00 9.9999988e-01\n",
      " 6.9535702e-01 2.6053542e-01 1.0000000e+00 1.0000000e+00 1.2628169e-01\n",
      " 1.0000000e+00 9.9999833e-01 1.0000000e+00 1.0000000e+00 1.0000000e+00\n",
      " 8.4374398e-01 9.9999809e-01 1.0000000e+00 1.0000000e+00 9.9999988e-01]\n"
     ]
    }
   ],
   "source": [
    "print(pred_)"
   ]
  },
  {
   "cell_type": "code",
   "execution_count": 62,
   "metadata": {},
   "outputs": [
    {
     "name": "stdout",
     "output_type": "stream",
     "text": [
      "disparate impact:  78.72340425531915\n",
      "disparate misclassification rate:  55.769230769230774\n",
      "disparate false positive rate: 89.1891891891892\n",
      "disparate false negative rate: 44.94252873563219\n"
     ]
    }
   ],
   "source": [
    "calculate_prule_clf(pred,yte,Zte)"
   ]
  },
  {
   "cell_type": "code",
   "execution_count": 64,
   "metadata": {},
   "outputs": [
    {
     "name": "stdout",
     "output_type": "stream",
     "text": [
      "equalized opportunity for 0.0 : 89.1891891891892\n",
      "equalized opportunity for 1.0 : 81.34008570315544\n"
     ]
    }
   ],
   "source": [
    "calculate_odds_clf(pred,yte.flatten(),Zte)"
   ]
  },
  {
   "cell_type": "code",
   "execution_count": 46,
   "metadata": {},
   "outputs": [
    {
     "ename": "NameError",
     "evalue": "name 'bce_loss' is not defined",
     "output_type": "error",
     "traceback": [
      "\u001b[0;31m---------------------------------------------------------------------------\u001b[0m",
      "\u001b[0;31mNameError\u001b[0m                                 Traceback (most recent call last)",
      "\u001b[0;32m<ipython-input-46-d90da94606d7>\u001b[0m in \u001b[0;36m<module>\u001b[0;34m\u001b[0m\n\u001b[0;32m----> 1\u001b[0;31m \u001b[0mcalculate_group_loss\u001b[0m\u001b[0;34m(\u001b[0m\u001b[0mbce_loss\u001b[0m\u001b[0;34m,\u001b[0m\u001b[0mpred_\u001b[0m\u001b[0;34m,\u001b[0m\u001b[0my_te\u001b[0m\u001b[0;34m,\u001b[0m\u001b[0mxs_te\u001b[0m\u001b[0;34m)\u001b[0m\u001b[0;34m\u001b[0m\u001b[0;34m\u001b[0m\u001b[0m\n\u001b[0m",
      "\u001b[0;31mNameError\u001b[0m: name 'bce_loss' is not defined"
     ]
    }
   ],
   "source": [
    "calculate_group_loss(bce_loss,pred_,y_te,xs_te)"
   ]
  },
  {
   "cell_type": "code",
   "execution_count": 61,
   "metadata": {},
   "outputs": [
    {
     "data": {
      "text/plain": [
       "0.7233333333333334"
      ]
     },
     "execution_count": 61,
     "metadata": {},
     "output_type": "execute_result"
    }
   ],
   "source": [
    "calculate_overall_accuracy(pred,yte.flatten())"
   ]
  },
  {
   "cell_type": "code",
   "execution_count": 78,
   "metadata": {},
   "outputs": [
    {
     "data": {
      "text/plain": [
       "1"
      ]
     },
     "execution_count": 78,
     "metadata": {},
     "output_type": "execute_result"
    }
   ],
   "source": [
    "min([1,3,5,6])"
   ]
  },
  {
   "cell_type": "code",
   "execution_count": null,
   "metadata": {},
   "outputs": [],
   "source": []
  }
 ],
 "metadata": {
  "kernelspec": {
   "display_name": "pytorch15",
   "language": "python",
   "name": "pytorch15"
  },
  "language_info": {
   "codemirror_mode": {
    "name": "ipython",
    "version": 3
   },
   "file_extension": ".py",
   "mimetype": "text/x-python",
   "name": "python",
   "nbconvert_exporter": "python",
   "pygments_lexer": "ipython3",
   "version": "3.8.3"
  }
 },
 "nbformat": 4,
 "nbformat_minor": 4
}
