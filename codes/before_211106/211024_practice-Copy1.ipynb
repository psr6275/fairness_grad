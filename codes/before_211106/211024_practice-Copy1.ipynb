{
 "cells": [
  {
   "cell_type": "code",
   "execution_count": 1,
   "metadata": {},
   "outputs": [],
   "source": [
    "import torch\n",
    "from load_data import *"
   ]
  },
  {
   "cell_type": "code",
   "execution_count": 3,
   "metadata": {},
   "outputs": [],
   "source": [
    "device = torch.device('cuda:2')"
   ]
  },
  {
   "cell_type": "markdown",
   "metadata": {},
   "source": [
    "# LoadDataset"
   ]
  },
  {
   "cell_type": "code",
   "execution_count": 4,
   "metadata": {},
   "outputs": [
    {
     "name": "stderr",
     "output_type": "stream",
     "text": [
      "/home/srp/.pyenv/versions/pytorch15/lib/python3.8/site-packages/pandas/core/indexing.py:671: SettingWithCopyWarning: \n",
      "A value is trying to be set on a copy of a slice from a DataFrame\n",
      "\n",
      "See the caveats in the documentation: https://pandas.pydata.org/pandas-docs/stable/user_guide/indexing.html#returning-a-view-versus-a-copy\n",
      "  self._setitem_with_indexer(indexer, value)\n"
     ]
    }
   ],
   "source": [
    "Xtr, Xte, ytr, yte, Ztr, Zte = load_bank_data()\n",
    "ytr = ytr.astype('float32').reshape((-1,1))\n",
    "yte = yte.astype('float32').reshape((-1,1))"
   ]
  },
  {
   "cell_type": "code",
   "execution_count": 5,
   "metadata": {
    "scrolled": true
   },
   "outputs": [
    {
     "data": {
      "image/png": "[encoded data removed]",
      "text/plain": [
       "<Figure size 432x288 with 1 Axes>"
      ]
     },
     "metadata": {
      "needs_background": "light"
     },
     "output_type": "display_data"
    },
    {
     "data": {
      "image/png": "[encoded data removed]",
      "text/plain": [
       "<Figure size 432x288 with 1 Axes>"
      ]
     },
     "metadata": {
      "needs_background": "light"
     },
     "output_type": "display_data"
    }
   ],
   "source": [
    "import matplotlib.pyplot as plt\n",
    "plt.hist(Ztr[:,0])\n",
    "plt.title(\"sensitive attributes\")\n",
    "plt.show()\n",
    "plt.hist(ytr)\n",
    "plt.title(\"target attributes\")\n",
    "plt.show()"
   ]
  },
  {
   "cell_type": "code",
   "execution_count": 6,
   "metadata": {},
   "outputs": [
    {
     "name": "stdout",
     "output_type": "stream",
     "text": [
      "sensitive ratio:  [0.39795241]\n",
      "training default:  [0.88289569]\n",
      "test default:  [0.88329401]\n",
      "# training samples: (31647, 46)\n",
      "# test samples: (13564, 46)\n",
      "# sensitive vars (31647, 1)\n",
      "# output vars (31647, 1)\n"
     ]
    }
   ],
   "source": [
    "print(\"sensitive ratio: \",sum(Ztr==0)/len(Ztr))\n",
    "print(\"training default: \", sum(ytr==0)/len(ytr))\n",
    "print(\"test default: \", sum(yte==0)/len(yte))\n",
    "print('# training samples:', Xtr.shape)\n",
    "print('# test samples:', Xte.shape)\n",
    "print('# sensitive vars', Ztr.shape)\n",
    "print('# output vars', ytr.shape)"
   ]
  },
  {
   "cell_type": "code",
   "execution_count": 7,
   "metadata": {},
   "outputs": [],
   "source": [
    "N1 = 300\n",
    "Xtr1 = Xtr[:N1]\n",
    "ytr1 = ytr[:N1]\n",
    "Ztr1 = Ztr[:N1]\n",
    "Xtr2 = Xtr[N1:]\n",
    "ytr2 = ytr[N1:]\n",
    "Ztr2 = Ztr[N1:]"
   ]
  },
  {
   "cell_type": "code",
   "execution_count": 8,
   "metadata": {},
   "outputs": [
    {
     "name": "stdout",
     "output_type": "stream",
     "text": [
      "sensitive ratio:  [0.39795241]\n",
      "training init:  [0.91666667]\n",
      "select init:  [0.88257249]\n",
      "test default:  [0.88329401]\n"
     ]
    }
   ],
   "source": [
    "print(\"sensitive ratio: \",sum(Ztr==0)/len(Ztr))\n",
    "print(\"training init: \", sum(ytr1==0)/len(ytr1))\n",
    "print(\"select init: \", sum(ytr2==0)/len(ytr2))\n",
    "print(\"test default: \", sum(yte==0)/len(yte))"
   ]
  },
  {
   "cell_type": "code",
   "execution_count": 9,
   "metadata": {},
   "outputs": [],
   "source": [
    "import torch.nn as nn\n",
    "import torch.nn.functional as F\n",
    "import torch.optim as optim"
   ]
  },
  {
   "cell_type": "code",
   "execution_count": 10,
   "metadata": {},
   "outputs": [],
   "source": [
    "from fairNN_train import *\n",
    "from load_data import *\n",
    "from fair_eval import *"
   ]
  },
  {
   "cell_type": "code",
   "execution_count": 11,
   "metadata": {},
   "outputs": [],
   "source": [
    "class Args:\n",
    "    def __init__(self):\n",
    "        self.epochs = 50\n",
    "#         self.max_epochs = None\n",
    "        self.AL_iters = 10 # AL batch 몇 번 뽑는지?\n",
    "        self.AL_batch = 32 # AL 시에 select 되는 데이터 수\n",
    "        self.batch_size = 64\n",
    "        self.AL_select = 'acc'\n",
    "        self.num_classes = 2\n",
    "#         self.AL_valid = 32\n",
    "        \n",
    "    def print_args(self):\n",
    "        print(\"train epochs/batch: {}/{}\".format(self.epochs,self.batch_size))\n",
    "        print(\"AL iters/batch: {}/{}\".format(self.AL_iters,self.AL_batch))\n",
    "        print(\"AL selection is based on \", self.AL_select)"
   ]
  },
  {
   "cell_type": "code",
   "execution_count": 12,
   "metadata": {},
   "outputs": [],
   "source": [
    "args = Args()"
   ]
  },
  {
   "cell_type": "code",
   "execution_count": 13,
   "metadata": {},
   "outputs": [],
   "source": [
    "train_data = NPsDataSet(Xtr1, ytr1, Ztr1)\n",
    "train_loader = DataLoader(train_data, batch_size=args.batch_size, shuffle=True, drop_last=False)"
   ]
  },
  {
   "cell_type": "code",
   "execution_count": 14,
   "metadata": {},
   "outputs": [],
   "source": [
    "zZtr2 = transform_dum2cat(Ztr2)\n",
    "select_data = NPsDataSet(Xtr2, ytr2, zZtr2)\n",
    "select_loader = DataLoader(select_data, batch_size=args.batch_size, shuffle=False, drop_last=False)"
   ]
  },
  {
   "cell_type": "code",
   "execution_count": 15,
   "metadata": {},
   "outputs": [],
   "source": [
    "test_data = NPsDataSet(Xte, yte, Zte)\n",
    "test_loader = DataLoader(test_data, batch_size=args.batch_size, shuffle=False, drop_last=False)"
   ]
  },
  {
   "cell_type": "code",
   "execution_count": 16,
   "metadata": {},
   "outputs": [],
   "source": [
    "from fairAL_utils import *"
   ]
  },
  {
   "cell_type": "code",
   "execution_count": 17,
   "metadata": {},
   "outputs": [
    {
     "data": {
      "text/plain": [
       "Classifier(\n",
       "  (network): Sequential(\n",
       "    (0): Linear(in_features=46, out_features=32, bias=True)\n",
       "    (1): ReLU()\n",
       "    (2): Dropout(p=0.2, inplace=False)\n",
       "    (3): Linear(in_features=32, out_features=32, bias=True)\n",
       "    (4): ReLU()\n",
       "    (5): Dropout(p=0.2, inplace=False)\n",
       "    (6): Linear(in_features=32, out_features=32, bias=True)\n",
       "    (7): ReLU()\n",
       "    (8): Dropout(p=0.2, inplace=False)\n",
       "    (9): Linear(in_features=32, out_features=1, bias=True)\n",
       "  )\n",
       ")"
      ]
     },
     "execution_count": 17,
     "metadata": {},
     "output_type": "execute_result"
    }
   ],
   "source": [
    "n_features = train_data.tensors[0].shape[1]\n",
    "clf = Classifier(n_features=n_features)\n",
    "clf.to(device)"
   ]
  },
  {
   "cell_type": "code",
   "execution_count": 18,
   "metadata": {},
   "outputs": [],
   "source": [
    "class BinaryEntropyLoss(nn.Module):\n",
    "    def __init__(self):\n",
    "        super(BinaryEntropyLoss,self).__init__()\n",
    "    def forward(self,output):\n",
    "        ent = -1.0*out"
   ]
  },
  {
   "cell_type": "code",
   "execution_count": 19,
   "metadata": {},
   "outputs": [],
   "source": [
    "for i,(x,y,_) in enumerate(train_loader):\n",
    "    x = x.to(device)\n",
    "    y = y.to(device)\n",
    "#     print(clf(x)[:,0]>0.5)\n",
    "#     print(sum(y[:,0]==1).float()/y.size(0),y.size(0),sum(y[:,0]==1).float())\n",
    "    if i>1:\n",
    "        break"
   ]
  },
  {
   "cell_type": "markdown",
   "metadata": {},
   "source": [
    "## compute gradient"
   ]
  },
  {
   "cell_type": "code",
   "execution_count": 20,
   "metadata": {},
   "outputs": [
    {
     "data": {
      "text/plain": [
       "Classifier(\n",
       "  (network): Sequential(\n",
       "    (0): Linear(in_features=46, out_features=32, bias=True)\n",
       "    (1): ReLU()\n",
       "    (2): Dropout(p=0.2, inplace=False)\n",
       "    (3): Linear(in_features=32, out_features=32, bias=True)\n",
       "    (4): ReLU()\n",
       "    (5): Dropout(p=0.2, inplace=False)\n",
       "    (6): Linear(in_features=32, out_features=32, bias=True)\n",
       "    (7): ReLU()\n",
       "    (8): Dropout(p=0.2, inplace=False)\n",
       "    (9): Linear(in_features=32, out_features=1, bias=True)\n",
       "  )\n",
       ")"
      ]
     },
     "execution_count": 20,
     "metadata": {},
     "output_type": "execute_result"
    }
   ],
   "source": [
    "clf.eval()"
   ]
  },
  {
   "cell_type": "code",
   "execution_count": 41,
   "metadata": {},
   "outputs": [],
   "source": [
    "def auto_grad_test(clf,x,y,clf_criterion):\n",
    "    autograd_hacks.add_hooks(clf)\n",
    "    clf.zero_grad()\n",
    "    clear_backprops(clf)\n",
    "    outs = clf(x)\n",
    "    count_backprops(clf)\n",
    "    clf_criterion(outs,y).backward()\n",
    "    remove_backprops(clf)\n",
    "    autograd_hacks.compute_grad1(clf)\n",
    "    tmp = []\n",
    "    for k, param in enumerate(clf.parameters()):\n",
    "        tmp.append(param.grad1.reshape(x.size(0),-1))       \n",
    "    grad_t = torch.cat(tmp,dim=1).detach().cpu()\n",
    "    return grad_t"
   ]
  },
  {
   "cell_type": "code",
   "execution_count": 42,
   "metadata": {
    "scrolled": true
   },
   "outputs": [
    {
     "data": {
      "text/plain": [
       "Sequential(\n",
       "  (0): Linear(in_features=46, out_features=32, bias=True)\n",
       "  (1): ReLU()\n",
       "  (2): Dropout(p=0.2, inplace=False)\n",
       "  (3): Linear(in_features=32, out_features=32, bias=True)\n",
       "  (4): ReLU()\n",
       "  (5): Dropout(p=0.2, inplace=False)\n",
       "  (6): Linear(in_features=32, out_features=32, bias=True)\n",
       "  (7): ReLU()\n",
       "  (8): Dropout(p=0.2, inplace=False)\n",
       "  (9): Linear(in_features=32, out_features=1, bias=True)\n",
       ")"
      ]
     },
     "execution_count": 42,
     "metadata": {},
     "output_type": "execute_result"
    }
   ],
   "source": [
    "clf.network"
   ]
  },
  {
   "cell_type": "markdown",
   "metadata": {},
   "source": [
    "- https://discuss.pytorch.org/t/enable-anomaly-detection-to-find-the-operation-that-failed-to-compute-its-gradient-with-torch-autograd-set-detect-anomaly-true/95032"
   ]
  },
  {
   "cell_type": "code",
   "execution_count": 49,
   "metadata": {},
   "outputs": [],
   "source": [
    "def auto_grad_entropy_test(clf,x):\n",
    "    autograd_hacks.add_hooks(clf)\n",
    "    clf.zero_grad()\n",
    "    clear_backprops(clf)\n",
    "    # this part is needed....\n",
    "    torch.autograd.set_detect_anomaly(True)\n",
    "    outs = clf(x)\n",
    "    count_backprops(clf)\n",
    "    # we need to set gradient\n",
    "    outs.backward(gradient = torch.ones(outs.size()).to(device))\n",
    "    remove_backprops(clf)\n",
    "    autograd_hacks.compute_grad1(clf)    \n",
    "    tmp = []\n",
    "    for k, param in enumerate(clf.parameters()):\n",
    "        tmp.append(param.grad1.reshape(x.size(0),-1))       \n",
    "    grad_t = torch.cat(tmp,dim=1).detach().cpu()\n",
    "    logits = clf.network(x).detach().cpu()\n",
    "    return -grad_t*logits"
   ]
  },
  {
   "cell_type": "code",
   "execution_count": 50,
   "metadata": {},
   "outputs": [],
   "source": [
    "grad_ent = auto_grad_entropy_test(clf,x)"
   ]
  },
  {
   "cell_type": "code",
   "execution_count": 51,
   "metadata": {},
   "outputs": [
    {
     "name": "stdout",
     "output_type": "stream",
     "text": [
      "tensor([[0.3311, 0.0000, 0.0000,  ..., 0.5092, 0.0000, 0.2059],\n",
      "        [0.0000, 0.0000, 0.3169,  ..., 0.4758, 0.0000, 0.1874],\n",
      "        [0.0000, 0.0000, 0.3207,  ..., 0.4881, 0.0000, 0.1897],\n",
      "        ...,\n",
      "        [0.0000, 0.0000, 0.0982,  ..., 0.1666, 0.0000, 0.0572],\n",
      "        [0.2951, 0.0000, 0.0000,  ..., 0.4354, 0.0000, 0.1719],\n",
      "        [0.3981, 0.0000, 0.0000,  ..., 0.6198, 0.0000, 0.2516]])\n"
     ]
    }
   ],
   "source": [
    "print(grad_ent)"
   ]
  },
  {
   "cell_type": "markdown",
   "metadata": {},
   "source": [
    "- adversarial example jacobiab: https://github.com/ast0414/adversarial-example/blob/master/craft.py\n",
    "- https://github.com/HIPS/autograd\n",
    "- https://gist.github.com/sbarratt/37356c46ad1350d4c30aefbd488a4faa "
   ]
  },
  {
   "cell_type": "code",
   "execution_count": 24,
   "metadata": {},
   "outputs": [
    {
     "data": {
      "image/png": "[encoded data removed]",
      "text/plain": [
       "<Figure size 864x576 with 2 Axes>"
      ]
     },
     "metadata": {
      "needs_background": "light"
     },
     "output_type": "display_data"
    },
    {
     "name": "stdout",
     "output_type": "stream",
     "text": [
      "Accuracy\n",
      "\ttraining         \t (min:   84.333, max:  100.000, cur:  100.000)\n",
      "\tvalidation       \t (min:   88.329, max:   97.781, cur:   97.781)\n",
      "Loss\n",
      "\ttraining         \t (min:    0.034, max:    0.677, cur:    0.034)\n",
      "\tvalidation       \t (min:    0.086, max:    0.664, cur:    0.086)\n",
      "Finished Training\n"
     ]
    }
   ],
   "source": [
    "clf_criterion = nn.BCELoss()\n",
    "clf_optimizer = optim.Adam(clf.parameters())\n",
    "train_model(clf, train_loader, clf_criterion, clf_optimizer, device, args.epochs, test_loader, liveloss = None)"
   ]
  },
  {
   "cell_type": "code",
   "execution_count": 34,
   "metadata": {},
   "outputs": [],
   "source": [
    "import torch\n",
    "# outs_g = torch.ones(*outs.size())\n",
    "# outs_g.new_tensor(outs,requires_grad = True)\n",
    "# outs_g.backward()\n",
    "autograd_hacks.add_hooks(clf)\n",
    "clf.zero_grad()\n",
    "clear_backprops(clf)\n",
    "torch.autograd.set_detect_anomaly(True)\n",
    "outs = clf(x)\n",
    "count_backprops(clf)\n",
    "outs.backward(gradient = torch.ones(outs.size()).to(device))\n",
    "remove_backprops(clf)\n",
    "autograd_hacks.compute_grad1(clf)"
   ]
  },
  {
   "cell_type": "code",
   "execution_count": 35,
   "metadata": {},
   "outputs": [],
   "source": [
    "tmp = []\n",
    "for k, param in enumerate(clf.parameters()):\n",
    "    tmp.append(param.grad1.reshape(x.size(0),-1))       \n",
    "grad_t = torch.cat(tmp,dim=1).detach().cpu()"
   ]
  },
  {
   "cell_type": "code",
   "execution_count": 37,
   "metadata": {},
   "outputs": [
    {
     "name": "stdout",
     "output_type": "stream",
     "text": [
      "torch.Size([64, 3649])\n"
     ]
    }
   ],
   "source": [
    "print(grad_t.shape)"
   ]
  },
  {
   "cell_type": "code",
   "execution_count": 27,
   "metadata": {},
   "outputs": [
    {
     "data": {
      "text/plain": [
       "<SigmoidBackward at 0x7fb88476c670>"
      ]
     },
     "execution_count": 27,
     "metadata": {},
     "output_type": "execute_result"
    }
   ],
   "source": [
    "outs.grad_fn"
   ]
  },
  {
   "cell_type": "code",
   "execution_count": 45,
   "metadata": {},
   "outputs": [
    {
     "data": {
      "text/plain": [
       "torch.Size([64, 3649])"
      ]
     },
     "execution_count": 45,
     "metadata": {},
     "output_type": "execute_result"
    }
   ],
   "source": [
    "gt0.shape"
   ]
  },
  {
   "cell_type": "code",
   "execution_count": 23,
   "metadata": {},
   "outputs": [
    {
     "name": "stdout",
     "output_type": "stream",
     "text": [
      "None\n"
     ]
    }
   ],
   "source": [
    "print(outs_g.grad_fn)"
   ]
  },
  {
   "cell_type": "code",
   "execution_count": 125,
   "metadata": {},
   "outputs": [
    {
     "data": {
      "text/plain": [
       "tensor(8.6005, device='cuda:1', grad_fn=<BinaryCrossEntropyBackward>)"
      ]
     },
     "execution_count": 125,
     "metadata": {},
     "output_type": "execute_result"
    }
   ],
   "source": [
    "clf_criterion(clf(x),y)"
   ]
  },
  {
   "cell_type": "code",
   "execution_count": 126,
   "metadata": {},
   "outputs": [],
   "source": [
    "grado = torch.zeros(*y.size())"
   ]
  },
  {
   "cell_type": "code",
   "execution_count": 39,
   "metadata": {},
   "outputs": [
    {
     "ename": "NameError",
     "evalue": "name 'grado' is not defined",
     "output_type": "error",
     "traceback": [
      "\u001b[0;31m---------------------------------------------------------------------------\u001b[0m",
      "\u001b[0;31mNameError\u001b[0m                                 Traceback (most recent call last)",
      "\u001b[0;32m<ipython-input-39-8a678d31f8eb>\u001b[0m in \u001b[0;36m<module>\u001b[0;34m\u001b[0m\n\u001b[1;32m      1\u001b[0m \u001b[0;32mfrom\u001b[0m \u001b[0mtorch\u001b[0m\u001b[0;34m.\u001b[0m\u001b[0mautograd\u001b[0m\u001b[0;34m.\u001b[0m\u001b[0mgradcheck\u001b[0m \u001b[0;32mimport\u001b[0m \u001b[0mzero_gradients\u001b[0m\u001b[0;34m\u001b[0m\u001b[0;34m\u001b[0m\u001b[0m\n\u001b[0;32m----> 2\u001b[0;31m \u001b[0mgrado\u001b[0m \u001b[0;34m=\u001b[0m \u001b[0mgrado\u001b[0m\u001b[0;34m.\u001b[0m\u001b[0mto\u001b[0m\u001b[0;34m(\u001b[0m\u001b[0mdevice\u001b[0m\u001b[0;34m)\u001b[0m\u001b[0;34m\u001b[0m\u001b[0;34m\u001b[0m\u001b[0m\n\u001b[0m\u001b[1;32m      3\u001b[0m \u001b[0mzero_gradients\u001b[0m\u001b[0;34m(\u001b[0m\u001b[0;34m)\u001b[0m\u001b[0;34m\u001b[0m\u001b[0;34m\u001b[0m\u001b[0m\n",
      "\u001b[0;31mNameError\u001b[0m: name 'grado' is not defined"
     ]
    }
   ],
   "source": [
    "from torch.autograd.gradcheck import zero_gradients\n",
    "grado = grado.to(device)\n",
    "zero_gradients()"
   ]
  },
  {
   "cell_type": "code",
   "execution_count": 44,
   "metadata": {},
   "outputs": [],
   "source": [
    "y0 = torch.ones(x.size(0),1).to(device)*0\n",
    "gt0 = auto_grad_test(clf,x,y0,clf_criterion)\n",
    "y1 = torch.ones(x.size(0),1).to(device)*1\n",
    "gt1 = auto_grad_test(clf,x,y1,clf_criterion)\n",
    "gt_true = auto_grad_test(clf,x,y,clf_criterion)"
   ]
  },
  {
   "cell_type": "code",
   "execution_count": 137,
   "metadata": {},
   "outputs": [
    {
     "name": "stdout",
     "output_type": "stream",
     "text": [
      "tensor([[9.4602e-06, 1.9687e-05, 0.0000e+00,  ..., 0.0000e+00, 0.0000e+00,\n",
      "         1.0857e-05],\n",
      "        [8.9625e-02, 3.4506e-01, 0.0000e+00,  ..., 7.5239e-01, 0.0000e+00,\n",
      "         8.5439e-01],\n",
      "        [0.0000e+00, 0.0000e+00, 0.0000e+00,  ..., 0.0000e+00, 0.0000e+00,\n",
      "         1.9524e-03],\n",
      "        ...,\n",
      "        [7.1622e-05, 1.3787e-04, 0.0000e+00,  ..., 0.0000e+00, 0.0000e+00,\n",
      "         7.6029e-05],\n",
      "        [8.7801e-04, 0.0000e+00, 0.0000e+00,  ..., 0.0000e+00, 0.0000e+00,\n",
      "         1.9948e-03],\n",
      "        [3.7617e-06, 1.6092e-05, 0.0000e+00,  ..., 0.0000e+00, 0.0000e+00,\n",
      "         8.8737e-06]])\n"
     ]
    }
   ],
   "source": [
    "print(gt0)"
   ]
  },
  {
   "cell_type": "code",
   "execution_count": 138,
   "metadata": {},
   "outputs": [
    {
     "name": "stdout",
     "output_type": "stream",
     "text": [
      "tensor([[-0.8714, -1.8134, -0.0000,  ..., -0.0000, -0.0000, -1.0000],\n",
      "        [-0.0153, -0.0588, -0.0000,  ..., -0.1282, -0.0000, -0.1456],\n",
      "        [ 0.0000,  0.0000,  0.0000,  ..., -0.0000, -0.0000, -0.9980],\n",
      "        ...,\n",
      "        [-0.9420, -1.8133, -0.0000,  ..., -0.0000, -0.0000, -0.9999],\n",
      "        [-0.4393, -0.0000, -0.0000,  ..., -0.0000, -0.0000, -0.9980],\n",
      "        [-0.4239, -1.8134, -0.0000,  ..., -0.0000, -0.0000, -1.0000]])\n"
     ]
    }
   ],
   "source": [
    "print(gt1)"
   ]
  },
  {
   "cell_type": "code",
   "execution_count": 139,
   "metadata": {},
   "outputs": [
    {
     "name": "stdout",
     "output_type": "stream",
     "text": [
      "tensor([[ 9.4602e-06,  1.9687e-05,  0.0000e+00,  ...,  0.0000e+00,\n",
      "          0.0000e+00,  1.0857e-05],\n",
      "        [-1.5275e-02, -5.8807e-02, -0.0000e+00,  ..., -1.2823e-01,\n",
      "         -0.0000e+00, -1.4561e-01],\n",
      "        [ 0.0000e+00,  0.0000e+00,  0.0000e+00,  ...,  0.0000e+00,\n",
      "          0.0000e+00,  1.9524e-03],\n",
      "        ...,\n",
      "        [ 7.1622e-05,  1.3787e-04,  0.0000e+00,  ...,  0.0000e+00,\n",
      "          0.0000e+00,  7.6029e-05],\n",
      "        [ 8.7801e-04,  0.0000e+00,  0.0000e+00,  ...,  0.0000e+00,\n",
      "          0.0000e+00,  1.9948e-03],\n",
      "        [ 3.7617e-06,  1.6092e-05,  0.0000e+00,  ...,  0.0000e+00,\n",
      "          0.0000e+00,  8.8737e-06]])\n"
     ]
    }
   ],
   "source": [
    "print(gt_true)"
   ]
  },
  {
   "cell_type": "code",
   "execution_count": 119,
   "metadata": {},
   "outputs": [
    {
     "data": {
      "text/plain": [
       "tensor([[ 0.0000e+00,  2.3283e-10,  0.0000e+00,  ...,  0.0000e+00,\n",
       "          0.0000e+00,  0.0000e+00],\n",
       "        [ 0.0000e+00,  0.0000e+00,  0.0000e+00,  ...,  0.0000e+00,\n",
       "          0.0000e+00,  0.0000e+00],\n",
       "        [ 0.0000e+00,  0.0000e+00,  0.0000e+00,  ...,  0.0000e+00,\n",
       "          0.0000e+00, -3.6380e-12],\n",
       "        ...,\n",
       "        [-3.6380e-12,  0.0000e+00,  0.0000e+00,  ...,  0.0000e+00,\n",
       "          0.0000e+00,  0.0000e+00],\n",
       "        [ 9.0949e-13,  0.0000e+00,  0.0000e+00,  ...,  0.0000e+00,\n",
       "          0.0000e+00,  0.0000e+00],\n",
       "        [ 1.8626e-09,  7.4506e-09,  0.0000e+00,  ...,  1.4901e-08,\n",
       "          0.0000e+00,  1.4901e-08]])"
      ]
     },
     "execution_count": 119,
     "metadata": {},
     "output_type": "execute_result"
    }
   ],
   "source": [
    "gt0*(1-outs) + gt1*outs"
   ]
  },
  {
   "cell_type": "code",
   "execution_count": 112,
   "metadata": {},
   "outputs": [
    {
     "data": {
      "text/plain": [
       "tensor([[-1.4099e-03, -3.1929e-03, -0.0000e+00,  ..., -0.0000e+00,\n",
       "         -0.0000e+00, -1.6958e-03],\n",
       "        [ 0.0000e+00,  0.0000e+00,  0.0000e+00,  ..., -0.0000e+00,\n",
       "         -0.0000e+00, -5.2104e-07],\n",
       "        [-3.7686e-05, -9.0681e-05, -0.0000e+00,  ..., -0.0000e+00,\n",
       "         -0.0000e+00, -5.0006e-05],\n",
       "        ...,\n",
       "        [-3.1681e-05, -0.0000e+00, -0.0000e+00,  ..., -0.0000e+00,\n",
       "         -0.0000e+00, -7.4734e-05],\n",
       "        [-1.3059e-05, -0.0000e+00, -0.0000e+00,  ..., -0.0000e+00,\n",
       "         -0.0000e+00, -4.2655e-05],\n",
       "        [-1.0612e-02, -3.8909e-02, -0.0000e+00,  ..., -1.0160e-01,\n",
       "         -0.0000e+00, -9.8253e-02]])"
      ]
     },
     "execution_count": 112,
     "metadata": {},
     "output_type": "execute_result"
    }
   ],
   "source": [
    "torch.cat(tmp,dim=1).detach().cpu()*outs"
   ]
  },
  {
   "cell_type": "code",
   "execution_count": 107,
   "metadata": {
    "scrolled": true
   },
   "outputs": [
    {
     "name": "stdout",
     "output_type": "stream",
     "text": [
      "tensor([[0.9983],\n",
      "        [1.0000],\n",
      "        [0.9999],\n",
      "        [1.0000],\n",
      "        [1.0000],\n",
      "        [1.0000],\n",
      "        [0.9999],\n",
      "        [0.9999],\n",
      "        [1.0000],\n",
      "        [0.9998],\n",
      "        [0.9992],\n",
      "        [1.0000],\n",
      "        [0.9998],\n",
      "        [0.9974],\n",
      "        [0.9995],\n",
      "        [0.9988],\n",
      "        [0.9972],\n",
      "        [0.9999],\n",
      "        [1.0000],\n",
      "        [0.9996],\n",
      "        [0.9997],\n",
      "        [0.9957],\n",
      "        [1.0000],\n",
      "        [0.1192],\n",
      "        [0.9997],\n",
      "        [1.0000],\n",
      "        [0.1673],\n",
      "        [0.9998],\n",
      "        [1.0000],\n",
      "        [0.1242],\n",
      "        [0.9998],\n",
      "        [0.9999],\n",
      "        [0.9997],\n",
      "        [0.9999],\n",
      "        [0.9999],\n",
      "        [0.9997],\n",
      "        [1.0000],\n",
      "        [0.9999],\n",
      "        [0.1456],\n",
      "        [1.0000],\n",
      "        [0.9982],\n",
      "        [1.0000],\n",
      "        [0.9996],\n",
      "        [1.0000],\n",
      "        [0.9999],\n",
      "        [1.0000],\n",
      "        [1.0000],\n",
      "        [0.9998],\n",
      "        [1.0000],\n",
      "        [1.0000],\n",
      "        [1.0000],\n",
      "        [0.9999],\n",
      "        [0.9999],\n",
      "        [0.9999],\n",
      "        [1.0000],\n",
      "        [0.9992],\n",
      "        [0.9995],\n",
      "        [1.0000],\n",
      "        [0.9999],\n",
      "        [0.9992],\n",
      "        [1.0000],\n",
      "        [0.9999],\n",
      "        [1.0000],\n",
      "        [0.1105]], device='cuda:1', grad_fn=<RsubBackward1>)\n"
     ]
    }
   ],
   "source": [
    "print(1-outs)"
   ]
  },
  {
   "cell_type": "code",
   "execution_count": 104,
   "metadata": {},
   "outputs": [],
   "source": []
  },
  {
   "cell_type": "code",
   "execution_count": 105,
   "metadata": {},
   "outputs": [
    {
     "name": "stdout",
     "output_type": "stream",
     "text": [
      "tensor([[ 1.4123e-03,  3.1983e-03,  0.0000e+00,  ...,  0.0000e+00,\n",
      "          0.0000e+00,  1.6987e-03],\n",
      "        [ 0.0000e+00,  0.0000e+00,  0.0000e+00,  ...,  0.0000e+00,\n",
      "          0.0000e+00,  5.2104e-07],\n",
      "        [ 3.7687e-05,  9.0685e-05,  0.0000e+00,  ...,  0.0000e+00,\n",
      "          0.0000e+00,  5.0008e-05],\n",
      "        ...,\n",
      "        [ 3.1683e-05,  0.0000e+00,  0.0000e+00,  ...,  0.0000e+00,\n",
      "          0.0000e+00,  7.4739e-05],\n",
      "        [ 1.3060e-05,  0.0000e+00,  0.0000e+00,  ...,  0.0000e+00,\n",
      "          0.0000e+00,  4.2657e-05],\n",
      "        [-1.1929e-02, -4.3741e-02, -0.0000e+00,  ..., -1.1422e-01,\n",
      "         -0.0000e+00, -1.1045e-01]])\n"
     ]
    }
   ],
   "source": [
    "print(grad_t)"
   ]
  },
  {
   "cell_type": "code",
   "execution_count": 70,
   "metadata": {
    "scrolled": true
   },
   "outputs": [
    {
     "name": "stdout",
     "output_type": "stream",
     "text": [
      "tensor([False, False, False, False, False, False, False, False, False, False,\n",
      "        False, False, False, False, False, False, False, False, False, False,\n",
      "        False, False, False, False, False, False, False, False, False, False,\n",
      "        False, False, False, False, False, False], device='cuda:1')\n",
      "tensor(0.0556) 36 tensor(2.)\n",
      "tensor([0., 0., 0., 0., 0., 0., 0., 0., 0., 0., 0., 1., 0., 0., 0., 0., 0., 0.,\n",
      "        0., 0., 0., 0., 0., 0., 0., 0., 0., 1., 0., 0., 0., 0., 0., 0., 0., 0.])\n"
     ]
    }
   ],
   "source": [
    "\n",
    "\n",
    "print(y[:,0])"
   ]
  },
  {
   "cell_type": "code",
   "execution_count": 92,
   "metadata": {},
   "outputs": [
    {
     "data": {
      "text/plain": [
       "(tensor(0.0124), tensor(100.))"
      ]
     },
     "execution_count": 92,
     "metadata": {},
     "output_type": "execute_result"
    }
   ],
   "source": [
    "test_model(clf, train_loader, clf_criterion, device)"
   ]
  },
  {
   "cell_type": "code",
   "execution_count": null,
   "metadata": {},
   "outputs": [],
   "source": []
  }
 ],
 "metadata": {
  "kernelspec": {
   "display_name": "pytorch15",
   "language": "python",
   "name": "pytorch15"
  },
  "language_info": {
   "codemirror_mode": {
    "name": "ipython",
    "version": 3
   },
   "file_extension": ".py",
   "mimetype": "text/x-python",
   "name": "python",
   "nbconvert_exporter": "python",
   "pygments_lexer": "ipython3",
   "version": "3.8.3"
  }
 },
 "nbformat": 4,
 "nbformat_minor": 4
}
